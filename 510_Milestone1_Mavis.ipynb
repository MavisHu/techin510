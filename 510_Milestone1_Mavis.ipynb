{
 "cells": [
  {
   "cell_type": "code",
   "execution_count": 7,
   "id": "00752420",
   "metadata": {},
   "outputs": [
    {
     "name": "stdout",
     "output_type": "stream",
     "text": [
      "User 1:\n",
      "Are you a student (type in Y/N)?Y\n",
      "Are you older than 18 (type in Y/N)?Y\n",
      "Do you like Pizza (type in Y/N)?Y\n",
      "User 2:\n",
      "Are you a student (type in Y/N)?N\n",
      "Are you older than 18 (type in Y/N)?N\n",
      "Do you like Pizza (type in Y/N)?N\n",
      "User 3:\n",
      "Are you a student (type in Y/N)?Y\n",
      "Are you older than 18 (type in Y/N)?N\n",
      "Do you like Pizza (type in Y/N)?N\n",
      "User 4:\n",
      "Are you a student (type in Y/N)?Y\n",
      "Are you older than 18 (type in Y/N)?Y\n",
      "Do you like Pizza (type in Y/N)?N\n",
      "User 5:\n",
      "Are you a student (type in Y/N)?N\n",
      "Are you older than 18 (type in Y/N)?N\n",
      "Do you like Pizza (type in Y/N)?Y\n"
     ]
    },
    {
     "data": {
      "image/png": "[encoded data removed]",
      "text/plain": [
       "<Figure size 864x288 with 3 Axes>"
      ]
     },
     "metadata": {
      "needs_background": "light"
     },
     "output_type": "display_data"
    }
   ],
   "source": [
    "import pandas as pd\n",
    "import matplotlib.pyplot as plt\n",
    "\n",
    "# Create a list of questions to ask\n",
    "questions = [\"Are you a student (type in Y/N)?\",\n",
    "             \"Are you older than 18 (type in Y/N)?\",\n",
    "             \"Do you like Pizza (type in Y/N)?\"]\n",
    "\n",
    "# Create a list to store the responses\n",
    "responses = []\n",
    "\n",
    "# Loop over the questions and ask each user\n",
    "for i in range(5):\n",
    "    print(f\"User {i+1}:\")\n",
    "    for q in questions:\n",
    "        user_response = input(q)\n",
    "        responses.append([i+1, q, user_response])\n",
    "\n",
    "# Store the responses in a DataFrame\n",
    "df = pd.DataFrame(responses, columns=[\"User\", \"Question\", \"Response\"])\n",
    "\n",
    "# Create a pivot table to count the frequency of each response\n",
    "pivot = df.pivot_table(index=\"Response\", columns=\"Question\", aggfunc=\"size\", fill_value=0)\n",
    "\n",
    "# Plot a bar chart of the frequency of responses for each question\n",
    "fig, axes = plt.subplots(1, 3, figsize=(12, 4))\n",
    "for ax, q in zip(axes, questions):\n",
    "    pivot[q].plot(kind=\"bar\", ax=ax)\n",
    "    ax.set_title(q)\n",
    "    ax.set_xlabel(\"Response\")\n",
    "    ax.set_ylabel(\"Amount\")\n",
    "\n",
    "plt.tight_layout() \n",
    "plt.show()\n"
   ]
  },
  {
   "cell_type": "code",
   "execution_count": null,
   "id": "2255ee53",
   "metadata": {},
   "outputs": [],
   "source": []
  },
  {
   "cell_type": "code",
   "execution_count": null,
   "id": "dec78502",
   "metadata": {},
   "outputs": [],
   "source": []
  },
  {
   "cell_type": "code",
   "execution_count": null,
   "id": "9694fb32",
   "metadata": {},
   "outputs": [],
   "source": []
  }
 ],
 "metadata": {
  "kernelspec": {
   "display_name": "Python 3 (ipykernel)",
   "language": "python",
   "name": "python3"
  },
  "language_info": {
   "codemirror_mode": {
    "name": "ipython",
    "version": 3
   },
   "file_extension": ".py",
   "mimetype": "text/x-python",
   "name": "python",
   "nbconvert_exporter": "python",
   "pygments_lexer": "ipython3",
   "version": "3.9.12"
  }
 },
 "nbformat": 4,
 "nbformat_minor": 5
}
